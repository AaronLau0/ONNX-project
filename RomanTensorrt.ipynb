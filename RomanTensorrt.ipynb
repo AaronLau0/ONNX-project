{
  "nbformat": 4,
  "nbformat_minor": 0,
  "metadata": {
    "colab": {
      "name": "Copy of PytorchToTensorRT.ipynb",
      "provenance": [],
      "collapsed_sections": []
    },
    "kernelspec": {
      "name": "python3",
      "display_name": "Python 3"
    },
    "accelerator": "GPU"
  },
  "cells": [
    {
      "cell_type": "code",
      "metadata": {
        "id": "DGChCWBzyx1O",
        "colab_type": "code",
        "outputId": "1c1bfc6c-bd67-4d18-a821-010344830ae4",
        "colab": {
          "base_uri": "https://localhost:8080/",
          "height": 216
        }
      },
      "source": [
        "!nvcc --version\n",
        "!cat /etc/issue\n",
        "import tensorflow as tf\n",
        "from platform import python_version\n",
        "\n",
        "print(python_version())\n",
        "print(tf.__version__)\n",
        "import torch\n",
        "print(torch.__version__)"
      ],
      "execution_count": 0,
      "outputs": [
        {
          "output_type": "stream",
          "text": [
            "nvcc: NVIDIA (R) Cuda compiler driver\n",
            "Copyright (c) 2005-2018 NVIDIA Corporation\n",
            "Built on Sat_Aug_25_21:08:01_CDT_2018\n",
            "Cuda compilation tools, release 10.0, V10.0.130\n",
            "Ubuntu 18.04.3 LTS \\n \\l\n",
            "\n"
          ],
          "name": "stdout"
        },
        {
          "output_type": "display_data",
          "data": {
            "text/html": [
              "<p style=\"color: red;\">\n",
              "The default version of TensorFlow in Colab will soon switch to TensorFlow 2.x.<br>\n",
              "We recommend you <a href=\"https://www.tensorflow.org/guide/migrate\" target=\"_blank\">upgrade</a> now \n",
              "or ensure your notebook will continue to use TensorFlow 1.x via the <code>%tensorflow_version 1.x</code> magic:\n",
              "<a href=\"https://colab.research.google.com/notebooks/tensorflow_version.ipynb\" target=\"_blank\">more info</a>.</p>\n"
            ],
            "text/plain": [
              "<IPython.core.display.HTML object>"
            ]
          },
          "metadata": {
            "tags": []
          }
        },
        {
          "output_type": "stream",
          "text": [
            "3.6.9\n",
            "1.15.0\n",
            "1.3.1\n"
          ],
          "name": "stdout"
        }
      ]
    },
    {
      "cell_type": "code",
      "metadata": {
        "id": "MFhUunu2lPe-",
        "colab_type": "code",
        "outputId": "dff03fe6-a3e6-4f2e-b193-51175bc098b3",
        "colab": {
          "base_uri": "https://localhost:8080/",
          "height": 139
        }
      },
      "source": [
        "%cd /content\n",
        "import os\n",
        "from google.colab import drive\n",
        "drive.mount('/content/gdrive')"
      ],
      "execution_count": 0,
      "outputs": [
        {
          "output_type": "stream",
          "text": [
            "/content\n",
            "Go to this URL in a browser: https://accounts.google.com/o/oauth2/auth?client_id=947318989803-6bn6qk8qdgf4n4g3pfee6491hc0brc4i.apps.googleusercontent.com&redirect_uri=urn%3aietf%3awg%3aoauth%3a2.0%3aoob&response_type=code&scope=email%20https%3a%2f%2fwww.googleapis.com%2fauth%2fdocs.test%20https%3a%2f%2fwww.googleapis.com%2fauth%2fdrive%20https%3a%2f%2fwww.googleapis.com%2fauth%2fdrive.photos.readonly%20https%3a%2f%2fwww.googleapis.com%2fauth%2fpeopleapi.readonly\n",
            "\n",
            "Enter your authorization code:\n",
            "··········\n",
            "Mounted at /content/gdrive\n"
          ],
          "name": "stdout"
        }
      ]
    },
    {
      "cell_type": "code",
      "metadata": {
        "id": "Pz3w5Y7NZk3l",
        "colab_type": "code",
        "colab": {}
      },
      "source": [
        "project_path = '/content/gdrive/My Drive' #change dir to your project folder\n",
        "os.chdir(project_path)  #change dir"
      ],
      "execution_count": 0,
      "outputs": []
    },
    {
      "cell_type": "code",
      "metadata": {
        "id": "UNXB4vAJ5Fb5",
        "colab_type": "code",
        "outputId": "7ba05a7e-c2aa-4485-e10e-fcf21fefb38a",
        "colab": {
          "base_uri": "https://localhost:8080/",
          "height": 34
        }
      },
      "source": [
        "!git clone https://github.com/mingyuliutw/UNIT.git"
      ],
      "execution_count": 0,
      "outputs": [
        {
          "output_type": "stream",
          "text": [
            "fatal: destination path 'UNIT' already exists and is not an empty directory.\n"
          ],
          "name": "stdout"
        }
      ]
    },
    {
      "cell_type": "code",
      "metadata": {
        "id": "DLhxSETJ0Hdq",
        "colab_type": "code",
        "outputId": "9dbd1e3c-89ba-486b-e89a-8685c5386c84",
        "colab": {
          "base_uri": "https://localhost:8080/",
          "height": 204
        }
      },
      "source": [
        "# %cd /content\n",
        "!ls"
      ],
      "execution_count": 0,
      "outputs": [
        {
          "output_type": "stream",
          "text": [
            "cuda-repo-ubuntu1804-10-2-local-10.2.89-440.33.01_1.0-1_amd64.deb\n",
            "model\n",
            "nv-tensorrt-repo-ubuntu1804-cuda10.0-trt5.1.2.2-rc-20190227_1-1_amd64.deb\n",
            "nv-tensorrt-repo-ubuntu1804-cuda10.2-trt6.0.1.8-ga-20191108_1-1_amd64.deb\n",
            "PytorchToTensorRT.ipynb\n",
            "TensorRT-5.1.2.2\n",
            "TensorRT-5.1.2.2.Ubuntu-18.04.1.x86_64-gnu.cuda-10.0.cudnn7.5.tar.gz\n",
            "TensorRT-6.0.1.5\n",
            "torch2trt\n",
            "UNIT\n",
            "UNIT_Working\n"
          ],
          "name": "stdout"
        }
      ]
    },
    {
      "cell_type": "code",
      "metadata": {
        "id": "EVcwIiFvcKFD",
        "colab_type": "code",
        "colab": {}
      },
      "source": [
        "# !tar xzvf TensorRT-5.1.2.2.Ubuntu-18.04.1.x86_64-gnu.cuda-10.0.cudnn7.5.tar.gz"
      ],
      "execution_count": 0,
      "outputs": []
    },
    {
      "cell_type": "code",
      "metadata": {
        "id": "tOGdB_xCcd1S",
        "colab_type": "code",
        "outputId": "990b40b2-141f-441b-c644-cc863d7fff4b",
        "colab": {
          "base_uri": "https://localhost:8080/",
          "height": 54
        }
      },
      "source": [
        "!ls TensorRT-5.1.2.2/"
      ],
      "execution_count": 0,
      "outputs": [
        {
          "output_type": "stream",
          "text": [
            "data  graphsurgeon  python   TensorRT-Release-Notes.pdf\n",
            "doc   include\t    targets  uff\n"
          ],
          "name": "stdout"
        }
      ]
    },
    {
      "cell_type": "code",
      "metadata": {
        "id": "K8MLV4GAcm7j",
        "colab_type": "code",
        "colab": {}
      },
      "source": [
        "os.environ['LD_LIBRARY_PATH'] += os.pathsep + '/content/gdrive/My Drive/PytorchToTensorRT/TensorRT-5.1.2.2/lib'"
      ],
      "execution_count": 0,
      "outputs": []
    },
    {
      "cell_type": "code",
      "metadata": {
        "id": "xBv9qcDD2HeH",
        "colab_type": "code",
        "outputId": "04f43d85-c350-4568-8e37-1d66fd0a0e93",
        "colab": {
          "base_uri": "https://localhost:8080/",
          "height": 126
        }
      },
      "source": [
        "%cd /content/gdrive/My Drive/PytorchToTensorRT/TensorRT-5.1.2.2/python\n",
        "!ls"
      ],
      "execution_count": 0,
      "outputs": [
        {
          "output_type": "stream",
          "text": [
            "/content/gdrive/My Drive/PytorchToTensorRT/TensorRT-5.1.2.2/python\n",
            "tensorrt-5.1.2.2-cp27-none-linux_x86_64.whl\n",
            "tensorrt-5.1.2.2-cp34-none-linux_x86_64.whl\n",
            "tensorrt-5.1.2.2-cp35-none-linux_x86_64.whl\n",
            "tensorrt-5.1.2.2-cp36-none-linux_x86_64.whl\n",
            "tensorrt-5.1.2.2-cp37-none-linux_x86_64.whl\n"
          ],
          "name": "stdout"
        }
      ]
    },
    {
      "cell_type": "code",
      "metadata": {
        "id": "xC6QhSG_2MKR",
        "colab_type": "code",
        "outputId": "58d94f77-ed16-485b-cc41-da9e23385348",
        "colab": {
          "base_uri": "https://localhost:8080/",
          "height": 72
        }
      },
      "source": [
        "!pip3 install tensorrt-5.1.2.2-cp36-none-linux_x86_64.whl"
      ],
      "execution_count": 0,
      "outputs": [
        {
          "output_type": "stream",
          "text": [
            "Processing ./tensorrt-5.1.2.2-cp36-none-linux_x86_64.whl\n",
            "Installing collected packages: tensorrt\n",
            "Successfully installed tensorrt-5.1.2.2\n"
          ],
          "name": "stdout"
        }
      ]
    },
    {
      "cell_type": "code",
      "metadata": {
        "id": "QveB9SyM3Z0Y",
        "colab_type": "code",
        "outputId": "7aa3b7c4-2576-4363-d4e3-f929fd624553",
        "colab": {
          "base_uri": "https://localhost:8080/",
          "height": 54
        }
      },
      "source": [
        "%cd /content/gdrive/My Drive/PytorchToTensorRT/TensorRT-5.1.2.2/uff\n",
        "!ls"
      ],
      "execution_count": 0,
      "outputs": [
        {
          "output_type": "stream",
          "text": [
            "/content/gdrive/My Drive/PytorchToTensorRT/TensorRT-5.1.2.2/uff\n",
            "uff-0.6.3-py2.py3-none-any.whl\n"
          ],
          "name": "stdout"
        }
      ]
    },
    {
      "cell_type": "code",
      "metadata": {
        "id": "iwKX_Eu63gf_",
        "colab_type": "code",
        "outputId": "90d182bc-5851-4159-81bf-7cafc711398c",
        "colab": {
          "base_uri": "https://localhost:8080/",
          "height": 145
        }
      },
      "source": [
        "!pip3 install uff-0.6.3-py2.py3-none-any.whl"
      ],
      "execution_count": 0,
      "outputs": [
        {
          "output_type": "stream",
          "text": [
            "Processing ./uff-0.6.3-py2.py3-none-any.whl\n",
            "Requirement already satisfied: protobuf>=3.3.0 in /usr/local/lib/python3.6/dist-packages (from uff==0.6.3) (3.10.0)\n",
            "Requirement already satisfied: numpy>=1.11.0 in /usr/local/lib/python3.6/dist-packages (from uff==0.6.3) (1.17.4)\n",
            "Requirement already satisfied: six>=1.9 in /usr/local/lib/python3.6/dist-packages (from protobuf>=3.3.0->uff==0.6.3) (1.12.0)\n",
            "Requirement already satisfied: setuptools in /usr/local/lib/python3.6/dist-packages (from protobuf>=3.3.0->uff==0.6.3) (42.0.1)\n",
            "Installing collected packages: uff\n",
            "Successfully installed uff-0.6.3\n"
          ],
          "name": "stdout"
        }
      ]
    },
    {
      "cell_type": "code",
      "metadata": {
        "id": "LmRqcknC3-Rn",
        "colab_type": "code",
        "outputId": "122f8891-2a9a-49dc-afda-2a85b0ecd432",
        "colab": {
          "base_uri": "https://localhost:8080/",
          "height": 54
        }
      },
      "source": [
        "%cd /content/gdrive/My Drive/PytorchToTensorRT/TensorRT-5.1.2.2/graphsurgeon\n",
        "!ls"
      ],
      "execution_count": 0,
      "outputs": [
        {
          "output_type": "stream",
          "text": [
            "/content/gdrive/My Drive/PytorchToTensorRT/TensorRT-5.1.2.2/graphsurgeon\n",
            "graphsurgeon-0.4.0-py2.py3-none-any.whl\n"
          ],
          "name": "stdout"
        }
      ]
    },
    {
      "cell_type": "code",
      "metadata": {
        "id": "iR4TOAX-4GQy",
        "colab_type": "code",
        "outputId": "f2f1dc6c-0d13-4d24-ccb4-c9893bfae47c",
        "colab": {
          "base_uri": "https://localhost:8080/",
          "height": 72
        }
      },
      "source": [
        "!pip3 install graphsurgeon-0.4.0-py2.py3-none-any.whl"
      ],
      "execution_count": 0,
      "outputs": [
        {
          "output_type": "stream",
          "text": [
            "Processing ./graphsurgeon-0.4.0-py2.py3-none-any.whl\n",
            "Installing collected packages: graphsurgeon\n",
            "Successfully installed graphsurgeon-0.4.0\n"
          ],
          "name": "stdout"
        }
      ]
    },
    {
      "cell_type": "code",
      "metadata": {
        "id": "psUj9BOm9jMu",
        "colab_type": "code",
        "colab": {}
      },
      "source": [
        "!apt-get update\n",
        "!apt-get install -y --no-install-recommends libnvinfer5=5.1.2-1+cuda10.0\n",
        "!apt-get install -y --no-install-recommends libnvinfer-dev=5.1.2-1+cuda10.0\n",
        "!apt-get install python3-libnvinfer-dev"
      ],
      "execution_count": 0,
      "outputs": []
    },
    {
      "cell_type": "code",
      "metadata": {
        "id": "-Nr_zwiqxGXX",
        "colab_type": "code",
        "colab": {}
      },
      "source": [
        "# %cd /content\n",
        "# !git clone https://github.com/NVIDIA-AI-IOT/torch2trt\n",
        "# %cd torch2trt\n",
        "# !sudo python setup.py install"
      ],
      "execution_count": 0,
      "outputs": []
    },
    {
      "cell_type": "code",
      "metadata": {
        "id": "rJ5UXNZ48yXr",
        "colab_type": "code",
        "colab": {}
      },
      "source": [
        "os.environ['PYTHONPATH'] += os.pathsep + '/content/gdrive/My Drive/UNIT/'#PytorchToTensorRT/UNIT_Working'"
      ],
      "execution_count": 0,
      "outputs": []
    },
    {
      "cell_type": "code",
      "metadata": {
        "id": "F5jD0fsU9ksQ",
        "colab_type": "code",
        "outputId": "96c192b3-da98-48cd-9c78-4817d7db11fe",
        "colab": {
          "base_uri": "https://localhost:8080/",
          "height": 170
        }
      },
      "source": [
        "!pip install torchfile"
      ],
      "execution_count": 0,
      "outputs": [
        {
          "output_type": "stream",
          "text": [
            "Collecting torchfile\n",
            "  Downloading https://files.pythonhosted.org/packages/91/af/5b305f86f2d218091af657ddb53f984ecbd9518ca9fe8ef4103a007252c9/torchfile-0.1.0.tar.gz\n",
            "Building wheels for collected packages: torchfile\n",
            "  Building wheel for torchfile (setup.py) ... \u001b[?25l\u001b[?25hdone\n",
            "  Created wheel for torchfile: filename=torchfile-0.1.0-cp36-none-any.whl size=5711 sha256=81d42c94650bc968b25af875b0ab660a38d9963005f26bb8e85847033b97f281\n",
            "  Stored in directory: /root/.cache/pip/wheels/b1/c3/d6/9a1cc8f3a99a0fc1124cae20153f36af59a6e683daca0a0814\n",
            "Successfully built torchfile\n",
            "Installing collected packages: torchfile\n",
            "Successfully installed torchfile-0.1.0\n"
          ],
          "name": "stdout"
        }
      ]
    },
    {
      "cell_type": "code",
      "metadata": {
        "id": "2meihkP9zoWl",
        "colab_type": "code",
        "colab": {}
      },
      "source": [
        "project_path = '/content/gdrive/My Drive/PytorchToTensorRT/UNIT_Working' #change dir to your project folder\n",
        "# project_path = '/content/gdrive/My Drive/UNIT' #change dir to your project folder\n",
        "os.chdir(project_path)  #change dir"
      ],
      "execution_count": 0,
      "outputs": []
    },
    {
      "cell_type": "code",
      "metadata": {
        "id": "jQlvpR6SIj2n",
        "colab_type": "code",
        "colab": {}
      },
      "source": [
        "from __future__ import print_function\n",
        "from utils import get_config, get_data_loader_folder\n",
        "from trainer import MUNIT_Trainer, UNIT_Trainer\n",
        "import argparse\n",
        "from torch.autograd import Variable\n",
        "import torchvision.utils as vutils\n",
        "import sys\n",
        "import torch\n",
        "import os\n",
        "from torchvision import transforms\n",
        "from PIL import Image"
      ],
      "execution_count": 0,
      "outputs": []
    },
    {
      "cell_type": "code",
      "metadata": {
        "id": "FfUsj8JPIlf_",
        "colab_type": "code",
        "colab": {}
      },
      "source": [
        "torch.manual_seed(0)\n",
        "torch.cuda.manual_seed(0)\n",
        "\n",
        "# Load experiment setting\n",
        "config = get_config('configs/unit_n2d_folder.yaml')\n",
        "# opts.num_style = 1 if opts.style != '' else opts.num_style\n",
        "\n",
        "# Setup model and data loader\n",
        "config['vgg_model_path'] = './output'\n",
        "trainer = UNIT_Trainer(config)\n",
        "\n",
        "state_dict = torch.load('checkpoints/gen_01017000.pt')\n",
        "trainer.gen_a.load_state_dict(state_dict['a'])\n",
        "trainer.gen_b.load_state_dict(state_dict['b'])\n",
        "trainer.cuda()\n",
        "trainer.eval()\n",
        "trainer.train(False)\n",
        "encode = trainer.gen_a # encode function\n",
        "style_encode = trainer.gen_b.encode # encode function\n",
        "decode = trainer.gen_b # decode function"
      ],
      "execution_count": 0,
      "outputs": []
    },
    {
      "cell_type": "code",
      "metadata": {
        "id": "KxmlCwZRvH2K",
        "colab_type": "code",
        "colab": {}
      },
      "source": [
        "trainer.state_dict"
      ],
      "execution_count": 0,
      "outputs": []
    },
    {
      "cell_type": "code",
      "metadata": {
        "id": "epjrn__qyChW",
        "colab_type": "code",
        "outputId": "958a9370-c4a4-4a7b-be99-5e8432d7aef7",
        "colab": {
          "base_uri": "https://localhost:8080/",
          "height": 241
        }
      },
      "source": [
        "# print(encode)\n",
        "onnx_path = \"/content/gdrive/My Drive/result.onnx\"\n",
        "# model = trainer\n",
        "# model = models.densenet121(pretrained=True)\n",
        "# model = model.to('cuda')\n",
        "# export_onnx_model(decode, input_shape, onnx_path)\n",
        "input1 = torch.ones((1, 3, 256, 256)).cuda()\n",
        "input2 = torch.ones((1, 3, 256, 256)).cuda()\n",
        "# inputs = Variable(torch.randn(1, 3, 256, 256)).cuda()\n",
        "print(\"==============ooooooo==============================\")\n",
        "# model(inputs)\n",
        "print(\"==============kkkkkkkk==============================\")\n",
        "# {'a': self.gen_a.state_dict(), 'b': self.gen_b.state_dict()}\n",
        "torch.onnx.export(trainer, args = (input1, input2) , f = onnx_path)"
      ],
      "execution_count": 0,
      "outputs": [
        {
          "output_type": "stream",
          "text": [
            "==============ooooooo==============================\n",
            "==============kkkkkkkk==============================\n"
          ],
          "name": "stdout"
        },
        {
          "output_type": "stream",
          "text": [
            "/content/gdrive/My Drive/PytorchToTensorRT/UNIT_Working/trainer.py:245: UserWarning: volatile was removed and now has no effect. Use `with torch.no_grad():` instead.\n",
            "  x_a.volatile = True\n",
            "/content/gdrive/My Drive/PytorchToTensorRT/UNIT_Working/trainer.py:246: UserWarning: volatile was removed and now has no effect. Use `with torch.no_grad():` instead.\n",
            "  x_b.volatile = True\n",
            "/content/gdrive/My Drive/PytorchToTensorRT/UNIT_Working/networks.py:285: TracerWarning: There are 2 live references to the data region being modified when tracing in-place operator add_. This might cause the trace to be incorrect, because all other views that also reference this data will not reflect this change in the trace! On the other hand, if all other views use the same memory chunk, but are disjoint (e.g. are outputs of torch.split), this might still be safe.\n",
            "  out += residual\n",
            "/usr/local/lib/python3.6/dist-packages/torch/onnx/symbolic_helper.py:198: UserWarning: You are trying to export the model with onnx:Upsample for ONNX opset version 9. This operator might cause results to not match the expected results by PyTorch.\n",
            "ONNX's Upsample/Resize operator did not match Pytorch's Interpolation until opset 11. Attributes to determine how to transform the input were added in onnx:Resize in opset 11 to support Pytorch's behavior (like coordinate_transformation_mode and nearest_mode).\n",
            "We recommend using opset 11 and above for models using this operator. \n",
            "  \"\" + str(_export_onnx_opset_version) + \". \"\n"
          ],
          "name": "stderr"
        }
      ]
    },
    {
      "cell_type": "code",
      "metadata": {
        "id": "msKTaOij2M9n",
        "colab_type": "code",
        "outputId": "b6a67eed-9913-4dbb-d911-27359d3f8567",
        "colab": {
          "base_uri": "https://localhost:8080/",
          "height": 34
        }
      },
      "source": [
        "cd UNIT_Working//"
      ],
      "execution_count": 0,
      "outputs": [
        {
          "output_type": "stream",
          "text": [
            "/content/gdrive/My Drive/PytorchToTensorRT/UNIT_Working\n"
          ],
          "name": "stdout"
        }
      ]
    },
    {
      "cell_type": "code",
      "metadata": {
        "id": "WS9ipQQ_8rlf",
        "colab_type": "code",
        "colab": {}
      },
      "source": [
        "import torch\n",
        "torch.__version__\n",
        "state_dict = torch.load('checkpoints/gen_01017000.pt')"
      ],
      "execution_count": 0,
      "outputs": []
    },
    {
      "cell_type": "code",
      "metadata": {
        "id": "_4Dy4388-P_w",
        "colab_type": "code",
        "outputId": "42447781-a771-45ed-e665-89f962ec39ba",
        "colab": {
          "base_uri": "https://localhost:8080/",
          "height": 170
        }
      },
      "source": [
        "!pip install torchfile"
      ],
      "execution_count": 0,
      "outputs": [
        {
          "output_type": "stream",
          "text": [
            "Collecting torchfile\n",
            "  Downloading https://files.pythonhosted.org/packages/91/af/5b305f86f2d218091af657ddb53f984ecbd9518ca9fe8ef4103a007252c9/torchfile-0.1.0.tar.gz\n",
            "Building wheels for collected packages: torchfile\n",
            "  Building wheel for torchfile (setup.py) ... \u001b[?25l\u001b[?25hdone\n",
            "  Created wheel for torchfile: filename=torchfile-0.1.0-cp36-none-any.whl size=5711 sha256=2def4923ba2681414088e5aa5103bcc489b128eb0798fc1ec28612df30953a1c\n",
            "  Stored in directory: /root/.cache/pip/wheels/b1/c3/d6/9a1cc8f3a99a0fc1124cae20153f36af59a6e683daca0a0814\n",
            "Successfully built torchfile\n",
            "Installing collected packages: torchfile\n",
            "Successfully installed torchfile-0.1.0\n"
          ],
          "name": "stdout"
        }
      ]
    },
    {
      "cell_type": "code",
      "metadata": {
        "id": "JUzoT5ua3_Gm",
        "colab_type": "code",
        "outputId": "8e36ef68-834e-4104-f39b-efe54189975f",
        "colab": {
          "base_uri": "https://localhost:8080/",
          "height": 1000
        }
      },
      "source": [
        "!python test_batch.py --trainer UNIT --config configs/unit_n2d_folder.yaml  --input input/ --output_folder output/ --checkpoint checkpoints/gen_01017000.pt --a2b 1"
      ],
      "execution_count": 0,
      "outputs": [
        {
          "output_type": "stream",
          "text": [
            "input/b1c81faa-3df17267.jpg\n",
            "test_batch.py:103: UserWarning: volatile was removed and now has no effect. Use `with torch.no_grad():` instead.\n",
            "  images = Variable(images.cuda(), volatile=True)\n",
            "index:  0 time:  0.15184473991394043\n",
            "size:  torch.Size([1, 3, 500, 888])\n",
            "average FPS:  6.585674291824401\n",
            "input/b1c81faa-c80764c5.jpg\n",
            "index:  1 time:  0.11034107208251953\n",
            "size:  torch.Size([1, 3, 500, 888])\n",
            "average FPS:  9.062808445907987\n",
            "input/b1ca2e5d-84cf9134.jpg\n",
            "index:  2 time:  0.08021831512451172\n",
            "size:  torch.Size([1, 3, 500, 888])\n",
            "average FPS:  12.465981097307258\n",
            "input/b1ca8418-84a133a0.jpg\n",
            "index:  3 time:  0.07901525497436523\n",
            "size:  torch.Size([1, 3, 500, 888])\n",
            "average FPS:  12.655784004296741\n",
            "input/b1cd1e94-26dd524f.jpg\n",
            "index:  4 time:  0.07523417472839355\n",
            "size:  torch.Size([1, 3, 500, 888])\n",
            "average FPS:  13.29183185181664\n",
            "input/b1ceb32e-3f481b43.jpg\n",
            "index:  5 time:  0.07967782020568848\n",
            "size:  torch.Size([1, 3, 500, 888])\n",
            "average FPS:  12.5505441466458\n",
            "input/b1ceb32e-813f84b2.jpg\n",
            "index:  6 time:  0.07699012756347656\n",
            "size:  torch.Size([1, 3, 500, 888])\n",
            "average FPS:  12.988678310417441\n",
            "input/b1d10d08-743fd86c.jpg\n",
            "index:  7 time:  0.07699966430664062\n",
            "size:  torch.Size([1, 3, 500, 888])\n",
            "average FPS:  12.987069606143175\n",
            "input/b1d22449-117aa773.jpg\n",
            "index:  8 time:  0.07719683647155762\n",
            "size:  torch.Size([1, 3, 500, 888])\n",
            "average FPS:  12.953898705012863\n",
            "input/b1d22449-15fb948f.jpg\n",
            "index:  9 time:  0.0769195556640625\n",
            "size:  torch.Size([1, 3, 500, 888])\n",
            "average FPS:  13.00059512001587\n",
            "input/b1d3907b-2278601b.jpg\n",
            "index:  10 time:  0.07373642921447754\n",
            "size:  torch.Size([1, 3, 500, 888])\n",
            "average FPS:  13.561817552776997\n",
            "input/b1d4b62c-89eeb5d3.jpg\n",
            "index:  11 time:  0.07756447792053223\n",
            "size:  torch.Size([1, 3, 500, 888])\n",
            "average FPS:  12.892499592719984\n",
            "input/b1d4b62c-d9805029.jpg\n",
            "index:  12 time:  0.0781242847442627\n",
            "size:  torch.Size([1, 3, 500, 888])\n",
            "average FPS:  12.800117188572893\n",
            "input/b1d8735d-eee9f184.jpg\n",
            "index:  13 time:  0.07353663444519043\n",
            "size:  torch.Size([1, 3, 500, 888])\n",
            "average FPS:  13.598664224228768\n",
            "input/b1db7e22-cfa74dc3.jpg\n",
            "index:  14 time:  0.07538151741027832\n",
            "size:  torch.Size([1, 3, 500, 888])\n",
            "average FPS:  13.265851290274629\n",
            "input/b1e2346e-c5f98707.jpg\n",
            "index:  15 time:  0.07554507255554199\n",
            "size:  torch.Size([1, 3, 500, 888])\n",
            "average FPS:  13.2371307111365\n",
            "input/b1e62c91-eca210a9.jpg\n",
            "index:  16 time:  0.07490348815917969\n",
            "size:  torch.Size([1, 3, 500, 888])\n",
            "average FPS:  13.350513101270657\n",
            "input/b1e88fd2-c1e4fd2b.jpg\n",
            "index:  17 time:  0.07556533813476562\n",
            "size:  torch.Size([1, 3, 500, 888])\n",
            "average FPS:  13.233580695643395\n",
            "input/b1ebfc3c-740ec84a.jpg\n",
            "index:  18 time:  0.0808722972869873\n",
            "size:  torch.Size([1, 3, 500, 888])\n",
            "average FPS:  12.365173657072608\n",
            "input/b1ebfc3c-cc9c2bb8.jpg\n",
            "index:  19 time:  0.07416820526123047\n",
            "size:  torch.Size([1, 3, 500, 888])\n",
            "average FPS:  13.482866364068869\n",
            "input/b1ee702d-0ae1fc10.jpg\n",
            "index:  20 time:  0.07385611534118652\n",
            "size:  torch.Size([1, 3, 500, 888])\n",
            "average FPS:  13.539840206601566\n",
            "input/b1ee702d-4a193906.jpg\n",
            "index:  21 time:  0.08993935585021973\n",
            "size:  torch.Size([1, 3, 500, 888])\n",
            "average FPS:  11.118603091458064\n",
            "input/b1ee702d-525fcebf.jpg\n",
            "index:  22 time:  0.07458138465881348\n",
            "size:  torch.Size([1, 3, 500, 888])\n",
            "average FPS:  13.40817155077889\n",
            "input/b1f20aa0-3401c3bf.jpg\n",
            "index:  23 time:  0.07426881790161133\n",
            "size:  torch.Size([1, 3, 500, 888])\n",
            "average FPS:  13.464601002869928\n",
            "input/b1f20aa0-50213047.jpg\n",
            "index:  24 time:  0.07209062576293945\n",
            "size:  torch.Size([1, 3, 500, 888])\n",
            "average FPS:  13.871429043886629\n",
            "input/b1f20aa0-6ef1db42.jpg\n",
            "index:  25 time:  0.08259153366088867\n",
            "size:  torch.Size([1, 3, 500, 888])\n",
            "average FPS:  12.107778553984538\n",
            "input/b1f6c103-5ce1f3c6.jpg\n",
            "index:  26 time:  0.07440495491027832\n",
            "size:  torch.Size([1, 3, 500, 888])\n",
            "average FPS:  13.439965136809185\n",
            "input/b1f6c103-8b75ea3e.jpg\n",
            "index:  27 time:  0.08180999755859375\n",
            "size:  torch.Size([1, 3, 500, 888])\n",
            "average FPS:  12.223444931455749\n",
            "input/b1f6c103-b00e8aad.jpg\n",
            "index:  28 time:  0.07237577438354492\n",
            "size:  torch.Size([1, 3, 500, 888])\n",
            "average FPS:  13.81677790002833\n",
            "input/b1fbf878-b31a8293.jpg\n",
            "index:  29 time:  0.07315802574157715\n",
            "size:  torch.Size([1, 3, 500, 888])\n",
            "average FPS:  13.669040270884187\n",
            "input/b2a0648b-d8e126bc.jpg\n",
            "index:  30 time:  0.08314061164855957\n",
            "size:  torch.Size([1, 3, 500, 888])\n",
            "average FPS:  12.027816252147156\n",
            "input/b2a0dbe8-85f1894e.jpg\n",
            "index:  31 time:  0.0737152099609375\n",
            "size:  torch.Size([1, 3, 500, 888])\n",
            "average FPS:  13.565721382736493\n",
            "input/b2a1e172-a969db88.jpg\n",
            "index:  32 time:  0.07431626319885254\n",
            "size:  torch.Size([1, 3, 500, 888])\n",
            "average FPS:  13.456004876405576\n",
            "input/b2a4bc4d-6f7c1727.jpg\n",
            "index:  33 time:  0.07685470581054688\n",
            "size:  torch.Size([1, 3, 500, 888])\n",
            "average FPS:  13.011564997270066\n",
            "input/b2a4bc4d-b251ccb1.jpg\n",
            "index:  34 time:  0.08018112182617188\n",
            "size:  torch.Size([1, 3, 500, 888])\n",
            "average FPS:  12.471763642418765\n",
            "input/b2a60634-0817a6eb.jpg\n",
            "index:  35 time:  0.07465076446533203\n",
            "size:  torch.Size([1, 3, 500, 888])\n",
            "average FPS:  13.395710106416955\n",
            "input/b2a60634-40847419.jpg\n",
            "index:  36 time:  0.07450246810913086\n",
            "size:  torch.Size([1, 3, 500, 888])\n",
            "average FPS:  13.422374122360681\n",
            "input/b2a60634-6e9f96fe.jpg\n",
            "index:  37 time:  0.07524728775024414\n",
            "size:  torch.Size([1, 3, 500, 888])\n",
            "average FPS:  13.289515541332657\n",
            "input/b2a60634-ad36f179.jpg\n",
            "index:  38 time:  0.0728006362915039\n",
            "size:  torch.Size([1, 3, 500, 888])\n",
            "average FPS:  13.736143678687924\n",
            "input/b2a9d547-f7f6fa92.jpg\n",
            "index:  39 time:  0.07361340522766113\n",
            "size:  torch.Size([1, 3, 500, 888])\n",
            "average FPS:  13.584482295138248\n",
            "input/b2ae0446-f456c162.jpg\n",
            "index:  40 time:  0.071014404296875\n",
            "size:  torch.Size([1, 3, 500, 888])\n",
            "average FPS:  14.081650193382037\n",
            "input/b2aefccb-24d289a9.jpg\n",
            "index:  41 time:  0.07487201690673828\n",
            "size:  torch.Size([1, 3, 500, 888])\n",
            "average FPS:  13.356124775503446\n",
            "input/b2bdc7e5-b4ebc5bd.jpg\n",
            "index:  42 time:  0.0735926628112793\n",
            "size:  torch.Size([1, 3, 500, 888])\n",
            "average FPS:  13.588311141348365\n",
            "input/b2bf0e03-a07f0a81.jpg\n",
            "index:  43 time:  0.08250641822814941\n",
            "size:  torch.Size([1, 3, 500, 888])\n",
            "average FPS:  12.120269204206243\n",
            "input/b2bf0e03-a3921cd6.jpg\n",
            "index:  44 time:  0.07754755020141602\n",
            "size:  torch.Size([1, 3, 500, 888])\n",
            "average FPS:  12.895313873909327\n",
            "input/b2c5110e-09e459e9.jpg\n",
            "index:  45 time:  0.07429695129394531\n",
            "size:  torch.Size([1, 3, 500, 888])\n",
            "average FPS:  13.459502477344492\n",
            "input/b2c5110e-ef7e4997.jpg\n",
            "index:  46 time:  0.07511591911315918\n",
            "size:  torch.Size([1, 3, 500, 888])\n",
            "average FPS:  13.31275729307844\n",
            "input/b2c7d048-fdd059eb.jpg\n",
            "index:  47 time:  0.0717170238494873\n",
            "size:  torch.Size([1, 3, 500, 888])\n",
            "average FPS:  13.94369072116967\n",
            "input/b2c7ebc4-731ea908.jpg\n",
            "index:  48 time:  0.08094143867492676\n",
            "size:  torch.Size([1, 3, 500, 888])\n",
            "average FPS:  12.354611140730443\n",
            "input/b2c88d3b-1c1ad881.jpg\n",
            "index:  49 time:  0.07476377487182617\n",
            "size:  torch.Size([1, 3, 500, 888])\n",
            "average FPS:  13.3754616017501\n",
            "input/b2c9b221-d447dcc3.jpg\n",
            "index:  50 time:  0.0750877857208252\n",
            "size:  torch.Size([1, 3, 500, 888])\n",
            "average FPS:  13.317745228471365\n",
            "input/b2cac490-b27b82da.jpg\n",
            "index:  51 time:  0.07653689384460449\n",
            "size:  torch.Size([1, 3, 500, 888])\n",
            "average FPS:  13.06559424831552\n",
            "input/b2cda443-f7cb5ccf.jpg\n",
            "index:  52 time:  0.0729970932006836\n",
            "size:  torch.Size([1, 3, 500, 888])\n",
            "average FPS:  13.69917562677188\n",
            "input/b2cf78ec-6043f571.jpg\n",
            "index:  53 time:  0.07487320899963379\n",
            "size:  torch.Size([1, 3, 500, 888])\n",
            "average FPS:  13.355912126123659\n",
            "input/b2d3510a-659ae4de.jpg\n",
            "index:  54 time:  0.07356023788452148\n",
            "size:  torch.Size([1, 3, 500, 888])\n",
            "average FPS:  13.59430079018844\n",
            "input/b2d4c878-2267ca6d.jpg\n",
            "index:  55 time:  0.07325983047485352\n",
            "size:  torch.Size([1, 3, 500, 888])\n",
            "average FPS:  13.65004523649902\n",
            "input/b2d502aa-64d3e228.jpg\n",
            "index:  56 time:  0.08022475242614746\n",
            "size:  torch.Size([1, 3, 500, 888])\n",
            "average FPS:  12.464980816495139\n",
            "input/b2d502aa-ef17ffbd.jpg\n",
            "index:  57 time:  0.073699951171875\n",
            "size:  torch.Size([1, 3, 500, 888])\n",
            "average FPS:  13.568530020703934\n",
            "input/b2d502aa-f9141409.jpg\n",
            "index:  58 time:  0.07717323303222656\n",
            "size:  torch.Size([1, 3, 500, 888])\n",
            "average FPS:  12.957860655940289\n",
            "input/b2d9b817-9a617024.jpg\n",
            "index:  59 time:  0.07945871353149414\n",
            "size:  torch.Size([1, 3, 500, 888])\n",
            "average FPS:  12.58515215708396\n",
            "input/b2dbb793-305e0fc5.jpg\n",
            "index:  60 time:  0.07649827003479004\n",
            "size:  torch.Size([1, 3, 500, 888])\n",
            "average FPS:  13.072191038375351\n",
            "input/b2dbb793-9f0b2bec.jpg\n",
            "index:  61 time:  0.07500600814819336\n",
            "size:  torch.Size([1, 3, 500, 888])\n",
            "average FPS:  13.332265303657366\n",
            "input/b2dc7ea5-4a031fdd.jpg\n",
            "index:  62 time:  0.0882413387298584\n",
            "size:  torch.Size([1, 3, 500, 888])\n",
            "average FPS:  11.332556989659858\n",
            "input/b2dde0d9-1303a9ef.jpg\n",
            "index:  63 time:  0.0743565559387207\n",
            "size:  torch.Size([1, 3, 500, 888])\n",
            "average FPS:  13.448713262407255\n",
            "input/b2e2b2be-4142962b.jpg\n",
            "index:  64 time:  0.07332611083984375\n",
            "size:  torch.Size([1, 3, 500, 888])\n",
            "average FPS:  13.6377067942982\n",
            "input/b2e2f4ed-6ba045d0.jpg\n",
            "index:  65 time:  0.07412981986999512\n",
            "size:  torch.Size([1, 3, 500, 888])\n",
            "average FPS:  13.4898479687897\n",
            "input/b2e63097-51c16783.jpg\n",
            "index:  66 time:  0.07912135124206543\n",
            "size:  torch.Size([1, 3, 500, 888])\n",
            "average FPS:  12.638813471986596\n",
            "input/b2ec68ce-d345784e.jpg\n",
            "index:  67 time:  0.07693648338317871\n",
            "size:  torch.Size([1, 3, 500, 888])\n",
            "average FPS:  12.997734703047769\n",
            "input/b2eed8fa-2694b15d.jpg\n",
            "index:  68 time:  0.09461164474487305\n",
            "size:  torch.Size([1, 3, 500, 888])\n",
            "average FPS:  10.569523473527708\n",
            "input/b2eed8fa-cf59a253.jpg\n",
            "index:  69 time:  0.07521438598632812\n",
            "size:  torch.Size([1, 3, 500, 888])\n",
            "average FPS:  13.295328903991479\n"
          ],
          "name": "stdout"
        }
      ]
    }
  ]
}